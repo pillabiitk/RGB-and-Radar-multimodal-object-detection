{
 "cells": [
  {
   "cell_type": "code",
   "execution_count": null,
   "id": "43328a29",
   "metadata": {},
   "outputs": [],
   "source": [
    "# #Getting the image filenames from excel\n",
    "# import pandas as pd\n",
    "\n",
    "# # Load the Excel file\n",
    "# df = pd.read_excel('Filename.xlsx')\n",
    "\n",
    "# # Get the data from column A and store it in a list\n",
    "# image_filenames = df.iloc[:, 0].tolist()\n"
   ]
  },
  {
   "cell_type": "code",
   "execution_count": null,
   "id": "f7090db0",
   "metadata": {},
   "outputs": [],
   "source": [
    "#Getting all the files from cam_front\n",
    "import os\n",
    "import pandas as pd\n",
    "directory = 'samples\\\\CAM_FRONT'\n",
    "\n",
    "# list all files in the directory\n",
    "image_filenames = os.listdir(directory)\n",
    "\n",
    "# print the list of files\n",
    "#files[0]"
   ]
  },
  {
   "cell_type": "code",
   "execution_count": null,
   "id": "fff7e028",
   "metadata": {},
   "outputs": [],
   "source": [
    "# print(image_filenames[0])\n",
    "# print(type(image_filenames[0]))\n",
    "\n",
    "# import os\n",
    "\n",
    "# path = image_filenames[0]\n",
    "# filename = os.path.basename(path)  # 'n008-2018-08-01-15-16-36-0400__CAM_FRONT__1533151605012404.jpg'\n",
    "# string = filename.split('__')[-1].split('.')[0]  # '1533151605012404'\n",
    "# string\n",
    "# time_token=int(string)\n",
    "# range(len(image_filenames))"
   ]
  },
  {
   "cell_type": "code",
   "execution_count": null,
   "id": "1462376a",
   "metadata": {},
   "outputs": [],
   "source": [
    "import os\n",
    "time_tokens=[]\n",
    "for i in range(len(image_filenames)):\n",
    "    path=image_filenames[i]\n",
    "    filename = os.path.basename(path)  # 'n008-2018-08-01-15-16-36-0400__CAM_FRONT__1533151605012404.jpg'\n",
    "    string = filename.split('__')[-1].split('.')[0]  # '1533151605012404'\n",
    "    time_token=int(string)\n",
    "    time_tokens.append(time_token)\n",
    "len(time_tokens)"
   ]
  },
  {
   "cell_type": "code",
   "execution_count": null,
   "id": "8a7c77df",
   "metadata": {},
   "outputs": [],
   "source": [
    "import numpy as np\n",
    "from PIL import Image\n",
    "from nuscenes.utils.data_classes import LidarPointCloud, Box\n",
    "from nuscenes.utils.geometry_utils import view_points, transform_matrix\n",
    "import os\n",
    "dataroot1=os.getcwd()\n",
    "from nuscenes import nuscenes_modified\n",
    "import numpy as np\n",
    "from nuscenes.utils.data_classes import LidarPointCloud, Box\n",
    "from nuscenes.utils.geometry_utils import view_points, transform_matrix\n",
    "from PIL import Image"
   ]
  },
  {
   "cell_type": "code",
   "execution_count": null,
   "id": "7dedb085",
   "metadata": {},
   "outputs": [],
   "source": [
    "nusc = nuscenes_modified.NuScenes(version='v1.0-train', dataroot=dataroot1, verbose=True)"
   ]
  },
  {
   "cell_type": "code",
   "execution_count": null,
   "id": "8d0d3153",
   "metadata": {},
   "outputs": [],
   "source": [
    "explorer = nuscenes_modified.NuScenesExplorer(nusc)\n",
    "# Define sensor names\n",
    "cam_name = 'CAM_FRONT'\n",
    "radar_name = 'RADAR_FRONT'\n",
    "dataroot1"
   ]
  },
  {
   "cell_type": "code",
   "execution_count": null,
   "id": "8df9069e",
   "metadata": {},
   "outputs": [],
   "source": [
    "sample_tokens=[]\n",
    "sensor = 'CAM_FRONT'\n",
    "for i in range(len(image_filenames)):\n",
    "    time_token=time_tokens[i]\n",
    "    for sample in nusc.sample:\n",
    "        cam_front_data = nusc.get('sample_data', sample['data'][sensor])\n",
    "        if cam_front_data['timestamp'] == time_token:\n",
    "            sample_token = sample['token']\n",
    "            sample_tokens.append(sample_token)\n",
    "            break        \n",
    "sample_tokens"
   ]
  },
  {
   "cell_type": "code",
   "execution_count": null,
   "id": "3992bc54",
   "metadata": {},
   "outputs": [],
   "source": [
    "len(sample_tokens)"
   ]
  },
  {
   "cell_type": "code",
   "execution_count": null,
   "id": "62b1d7c7",
   "metadata": {},
   "outputs": [],
   "source": [
    "from PIL import Image\n",
    "import matplotlib.pyplot as plt\n",
    "range(len(sample_tokens))\n",
    "for i in range(len(sample_tokens)):\n",
    "    sample = nusc.get('sample', sample_tokens[i])\n",
    "    #timestamp = sample['timestamp']\n",
    "    # Get camera and radar data for the selected sample\n",
    "    cam = nusc.get('sample_data', sample['data'][cam_name])\n",
    "    pointsensor = nusc.get('sample_data', sample['data'][radar_name])\n",
    "    #Making out_path for radar data\n",
    "    out_path=cam['filename']\n",
    "    out_path='Radarc'+out_path[17:]\n",
    "    out_path=out_path.replace('/', '\\\\')\n",
    "    pointsensor_channel='RADAR_FRONT'\n",
    "    pointsensor_token = sample['data'][pointsensor_channel]\n",
    "    camera_channel: str = 'CAM_FRONT'\n",
    "    camera_token = sample['data'][camera_channel]\n",
    "    points, coloring, im = explorer.map_pointcloud_to_image(pointsensor_token, camera_token, render_intensity=False, show_lidarseg=False, show_panoptic=False)\n",
    "    # Create a white image of size 1600 x 900 pixels\n",
    "    im_white = Image.new(\"RGB\", (1600, 900), (255, 255, 255))\n",
    "    # Save the image as a JPEG file\n",
    "    #image.save(\"white_image.jpg\")\n",
    "    fig, ax = plt.subplots(1, 1, figsize=(9, 16))\n",
    "    fig.canvas.set_window_title(sample_tokens[i])\n",
    "    dot_size= 20\n",
    "    #ax.imshow(im)   #shows the depth on actual image\n",
    "    ax.imshow(im_white)  #shows the depth on white image\n",
    "    ax.scatter(points[0, :], points[1, :], c=coloring, s=dot_size)\n",
    "    ax.axis('off')\n",
    "    #out_path=\"radar_mask1.jpg\"\n",
    "    plt.savefig(out_path, bbox_inches='tight', pad_inches=0, dpi=200) #saving figure\n",
    "    plt.show()"
   ]
  },
  {
   "cell_type": "code",
   "execution_count": null,
   "id": "df845501",
   "metadata": {},
   "outputs": [],
   "source": []
  }
 ],
 "metadata": {
  "kernelspec": {
   "display_name": "Python 3",
   "language": "python",
   "name": "python3"
  },
  "language_info": {
   "codemirror_mode": {
    "name": "ipython",
    "version": 3
   },
   "file_extension": ".py",
   "mimetype": "text/x-python",
   "name": "python",
   "nbconvert_exporter": "python",
   "pygments_lexer": "ipython3",
   "version": "3.11.2"
  }
 },
 "nbformat": 4,
 "nbformat_minor": 5
}
